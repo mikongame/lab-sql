{
 "cells": [
  {
   "cell_type": "markdown",
   "metadata": {},
   "source": [
    "<img src=\"https://bit.ly/2VnXWr2\" width=\"100\" align=\"left\">"
   ]
  },
  {
   "cell_type": "markdown",
   "metadata": {},
   "source": [
    "# Lab | SQL: Isaac, Gabi & Miguel "
   ]
  },
  {
   "cell_type": "markdown",
   "metadata": {},
   "source": [
    "## Connect to BigQuery"
   ]
  },
  {
   "cell_type": "code",
   "execution_count": 16,
   "metadata": {
    "ExecuteTime": {
     "end_time": "2020-01-19T12:25:24.059240Z",
     "start_time": "2020-01-19T12:25:24.054952Z"
    }
   },
   "outputs": [],
   "source": [
    "import os\n",
    "os.environ[\"GOOGLE_APPLICATION_CREDENTIALS\"]=\"/Users/Miguel/Documents/GitHub/Ironhack exercises/Modulo 1/ironhack_service_account_big_query.json\"\n",
    "from google.cloud import bigquery"
   ]
  },
  {
   "cell_type": "code",
   "execution_count": 17,
   "metadata": {
    "ExecuteTime": {
     "end_time": "2020-01-19T12:25:24.858270Z",
     "start_time": "2020-01-19T12:25:24.836231Z"
    }
   },
   "outputs": [],
   "source": [
    "client = bigquery.Client()"
   ]
  },
  {
   "cell_type": "markdown",
   "metadata": {},
   "source": [
    "## Challenge 2 - Create the Database and Tables\n",
    "\n",
    "1. __Create a database for this lab.__\n",
    "   \n",
    "   In BigQuery you will find a 'dataset' called 'car_dealership'. You will create all tables under this.\n",
    "\n",
    "\n",
    "2. __Now, based on the database design you created, write the SQL query to create the tables and columns.__ You will be using the  `CREATE TABLE` statement for which you can find reference [here](https://cloud.google.com/bigquery/docs/reference/standard-sql/data-definition-language).\n",
    "\n",
    "   Now split yourselves in pairs and decide which table you want to create. Each pair should create one table. Once you have   created the table, go to the BigQuery interface and make sure that the table was created correctly."
   ]
  },
  {
   "cell_type": "code",
   "execution_count": 18,
   "metadata": {
    "ExecuteTime": {
     "end_time": "2020-01-19T12:28:29.121521Z",
     "start_time": "2020-01-19T12:28:29.118155Z"
    }
   },
   "outputs": [],
   "source": [
    "sql = '''\n",
    "CREATE TABLE car_dealership.salesperson(staff_id STRING, name STRING, store STRING)\n",
    "'''"
   ]
  },
  {
   "cell_type": "markdown",
   "metadata": {},
   "source": [
    "## Challenge 3 - Seeding the Database\n",
    "\n",
    "The purpose of _database seeding_ is to provide some dummy data for an empty database so that software development can be started based on the dummy data. In this challenge you will insert dummy data rows into the tables of your new database.\n",
    "\n",
    "\n",
    "You'll be using the `INSERT INTO` statement for this purpose. You can some info [here](https://cloud.google.com/bigquery/docs/reference/standard-sql/dml-syntax).\n",
    "\n",
    "For your convenience, we provide you with some example dummy data. These dummy data may not readily work with your database depending on how you have designed your database. You may need to change them to the appropriate form. You should only insert data into the table you have created."
   ]
  },
  {
   "cell_type": "code",
   "execution_count": 19,
   "metadata": {
    "ExecuteTime": {
     "end_time": "2020-01-19T12:28:47.386797Z",
     "start_time": "2020-01-19T12:28:47.382978Z"
    },
    "code_folding": [
     0
    ]
   },
   "outputs": [],
   "source": [
    "sql_2 = '''\n",
    "INSERT INTO `ironhack-data-analytics-265219.car_dealership.salesperson` \n",
    "VALUES\n",
    "('00001', 'Petey Cruiser', 'Madrid'),\n",
    "('00002', 'Anna Sthesia', 'Barcelona'),\n",
    "('00003', 'Paul Molive', 'Berlin'),\n",
    "('00004', 'Gail Forcewind', 'Paris'),\n",
    "('00005', 'Bob Frapples', 'Mimia'),\n",
    "('00006', 'Bob Frapples', 'Mexico City'),\n",
    "('00007', 'Walter Melon', 'Amsterdam'),\n",
    "('00008', 'Shonda Leer', 'São Paulo')\n",
    "'''"
   ]
  },
  {
   "cell_type": "code",
   "execution_count": 20,
   "metadata": {
    "ExecuteTime": {
     "end_time": "2020-01-19T12:29:02.685147Z",
     "start_time": "2020-01-19T12:29:00.449276Z"
    }
   },
   "outputs": [
    {
     "data": {
      "text/html": [
       "<div>\n",
       "<style scoped>\n",
       "    .dataframe tbody tr th:only-of-type {\n",
       "        vertical-align: middle;\n",
       "    }\n",
       "\n",
       "    .dataframe tbody tr th {\n",
       "        vertical-align: top;\n",
       "    }\n",
       "\n",
       "    .dataframe thead th {\n",
       "        text-align: right;\n",
       "    }\n",
       "</style>\n",
       "<table border=\"1\" class=\"dataframe\">\n",
       "  <thead>\n",
       "    <tr style=\"text-align: right;\">\n",
       "      <th></th>\n",
       "    </tr>\n",
       "  </thead>\n",
       "  <tbody>\n",
       "  </tbody>\n",
       "</table>\n",
       "</div>"
      ],
      "text/plain": [
       "Empty DataFrame\n",
       "Columns: []\n",
       "Index: []"
      ]
     },
     "execution_count": 20,
     "metadata": {},
     "output_type": "execute_result"
    }
   ],
   "source": [
    "query_job = client.query(query = sql_2)\n",
    "query_job.to_dataframe()"
   ]
  },
  {
   "cell_type": "code",
   "execution_count": null,
   "metadata": {},
   "outputs": [],
   "source": []
  }
 ],
 "metadata": {
  "kernelspec": {
   "display_name": "Python 3",
   "language": "python",
   "name": "python3"
  },
  "language_info": {
   "codemirror_mode": {
    "name": "ipython",
    "version": 3
   },
   "file_extension": ".py",
   "mimetype": "text/x-python",
   "name": "python",
   "nbconvert_exporter": "python",
   "pygments_lexer": "ipython3",
   "version": "3.7.4"
  }
 },
 "nbformat": 4,
 "nbformat_minor": 2
}
