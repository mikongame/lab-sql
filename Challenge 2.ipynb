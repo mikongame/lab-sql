{
 "cells": [
  {
   "cell_type": "code",
   "execution_count": 5,
   "metadata": {},
   "outputs": [],
   "source": [
    "# Connect to BigQuery"
   ]
  },
  {
   "cell_type": "code",
   "execution_count": 6,
   "metadata": {
    "ExecuteTime": {
     "end_time": "2020-01-19T12:25:24.059240Z",
     "start_time": "2020-01-19T12:25:24.054952Z"
    }
   },
   "outputs": [],
   "source": [
    "import os\n",
    "os.environ[\"GOOGLE_APPLICATION_CREDENTIALS\"]=\"/Users/Miguel/Documents/GitHub/Ironhack exercises/Modulo 1/ironhack_service_account_big_query.json\"\n",
    "from google.cloud import bigquery"
   ]
  },
  {
   "cell_type": "code",
   "execution_count": 7,
   "metadata": {
    "ExecuteTime": {
     "end_time": "2020-01-19T12:25:24.858270Z",
     "start_time": "2020-01-19T12:25:24.836231Z"
    }
   },
   "outputs": [],
   "source": [
    "client = bigquery.Client()"
   ]
  },
  {
   "cell_type": "code",
   "execution_count": 11,
   "metadata": {
    "ExecuteTime": {
     "end_time": "2020-01-19T12:28:29.121521Z",
     "start_time": "2020-01-19T12:28:29.118155Z"
    }
   },
   "outputs": [
    {
     "ename": "SyntaxError",
     "evalue": "invalid syntax (<ipython-input-11-97d6a6a18a29>, line 1)",
     "output_type": "error",
     "traceback": [
      "\u001b[1;36m  File \u001b[1;32m\"<ipython-input-11-97d6a6a18a29>\"\u001b[1;36m, line \u001b[1;32m1\u001b[0m\n\u001b[1;33m    CREATE TABLE car_dealership.salesperson(\u001b[0m\n\u001b[1;37m               ^\u001b[0m\n\u001b[1;31mSyntaxError\u001b[0m\u001b[1;31m:\u001b[0m invalid syntax\n"
     ]
    }
   ],
   "source": [
    "    CREATE TABLE car_dealership.salesperson(\n",
    "    staff_id STRING ,\n",
    "    name STRING,\n",
    "    store STRING\n",
    "    )"
   ]
  },
  {
   "cell_type": "code",
   "execution_count": 9,
   "metadata": {
    "ExecuteTime": {
     "end_time": "2020-01-19T12:28:47.386797Z",
     "start_time": "2020-01-19T12:28:47.382978Z"
    },
    "code_folding": [
     0
    ]
   },
   "outputs": [],
   "source": [
    "sql_2 = '''\n",
    "    INSERT INTO `ironhack-data-analytics-265219.car_dealership.salesperson` \n",
    "    VALUES\n",
    "    ('00001', 'Petey Cruiser', 'Madrid'),\n",
    "    ('00002', 'Anna Sthesia', 'Barcelona'),\n",
    "    ('00003', 'Paul Molive', 'Berlin'),\n",
    "    ('00004', 'Gail Forcewind', 'Paris'),\n",
    "    ('00005', 'Bob Frapples', 'Mimia'),\n",
    "    ('00006', 'Bob Frapples', 'Mexico City'),\n",
    "    ('00007', 'Walter Melon', 'Amsterdam'),\n",
    "    ('00008', 'Shonda Leer', 'São Paulo')\n",
    "    '''"
   ]
  },
  {
   "cell_type": "code",
   "execution_count": 10,
   "metadata": {
    "ExecuteTime": {
     "end_time": "2020-01-19T12:29:02.685147Z",
     "start_time": "2020-01-19T12:29:00.449276Z"
    }
   },
   "outputs": [
    {
     "data": {
      "text/html": [
       "<div>\n",
       "<style scoped>\n",
       "    .dataframe tbody tr th:only-of-type {\n",
       "        vertical-align: middle;\n",
       "    }\n",
       "\n",
       "    .dataframe tbody tr th {\n",
       "        vertical-align: top;\n",
       "    }\n",
       "\n",
       "    .dataframe thead th {\n",
       "        text-align: right;\n",
       "    }\n",
       "</style>\n",
       "<table border=\"1\" class=\"dataframe\">\n",
       "  <thead>\n",
       "    <tr style=\"text-align: right;\">\n",
       "      <th></th>\n",
       "    </tr>\n",
       "  </thead>\n",
       "  <tbody>\n",
       "  </tbody>\n",
       "</table>\n",
       "</div>"
      ],
      "text/plain": [
       "Empty DataFrame\n",
       "Columns: []\n",
       "Index: []"
      ]
     },
     "execution_count": 10,
     "metadata": {},
     "output_type": "execute_result"
    }
   ],
   "source": [
    "query_job = client.query(query = sql_2)\n",
    "query_job.to_dataframe()"
   ]
  },
  {
   "cell_type": "code",
   "execution_count": null,
   "metadata": {},
   "outputs": [],
   "source": []
  }
 ],
 "metadata": {
  "kernelspec": {
   "display_name": "Python 3",
   "language": "python",
   "name": "python3"
  },
  "language_info": {
   "codemirror_mode": {
    "name": "ipython",
    "version": 3
   },
   "file_extension": ".py",
   "mimetype": "text/x-python",
   "name": "python",
   "nbconvert_exporter": "python",
   "pygments_lexer": "ipython3",
   "version": "3.7.4"
  }
 },
 "nbformat": 4,
 "nbformat_minor": 2
}
